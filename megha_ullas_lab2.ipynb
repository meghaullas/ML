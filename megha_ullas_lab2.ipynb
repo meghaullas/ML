{
  "cells": [
    {
      "cell_type": "code",
      "execution_count": null,
      "id": "377d52b4-5ea2-487a-8a79-49e27ca6ca0e",
      "metadata": {
        "id": "377d52b4-5ea2-487a-8a79-49e27ca6ca0e"
      },
      "outputs": [],
      "source": [
        "#import nessesary libraries\n",
        "import pandas as pd\n",
        "import numpy as np\n",
        "from scipy import stats\n",
        "import seaborn as sns\n",
        "import matplotlib.pyplot as plt"
      ]
    },
    {
      "cell_type": "code",
      "execution_count": null,
      "id": "56d8bbff-5417-4ae7-8c23-cff43ca8f8c2",
      "metadata": {
        "id": "56d8bbff-5417-4ae7-8c23-cff43ca8f8c2"
      },
      "outputs": [],
      "source": [
        "df=pd.read_csv(\"C:\\\\Users\\\\megha\\\\OneDrive\\\\Desktop\\\\ml projects\\\\Invistico_Airline - Invistico_Airline.csv\")"
      ]
    },
    {
      "cell_type": "code",
      "execution_count": null,
      "id": "1fb8fe1a-bb31-49d7-80e7-5e333c13df88",
      "metadata": {
        "id": "1fb8fe1a-bb31-49d7-80e7-5e333c13df88",
        "outputId": "ca5f39fa-ab80-4520-c777-0f6742f4e995"
      },
      "outputs": [
        {
          "data": {
            "text/html": [
              "<div>\n",
              "<style scoped>\n",
              "    .dataframe tbody tr th:only-of-type {\n",
              "        vertical-align: middle;\n",
              "    }\n",
              "\n",
              "    .dataframe tbody tr th {\n",
              "        vertical-align: top;\n",
              "    }\n",
              "\n",
              "    .dataframe thead th {\n",
              "        text-align: right;\n",
              "    }\n",
              "</style>\n",
              "<table border=\"1\" class=\"dataframe\">\n",
              "  <thead>\n",
              "    <tr style=\"text-align: right;\">\n",
              "      <th></th>\n",
              "      <th>satisfaction</th>\n",
              "      <th>Gender</th>\n",
              "      <th>Customer Type</th>\n",
              "      <th>Age</th>\n",
              "      <th>Type of Travel</th>\n",
              "      <th>Class</th>\n",
              "      <th>Flight Distance</th>\n",
              "      <th>Seat comfort</th>\n",
              "      <th>Departure/Arrival time convenient</th>\n",
              "      <th>Food and drink</th>\n",
              "      <th>...</th>\n",
              "      <th>Online support</th>\n",
              "      <th>Ease of Online booking</th>\n",
              "      <th>On-board service</th>\n",
              "      <th>Leg room service</th>\n",
              "      <th>Baggage handling</th>\n",
              "      <th>Checkin service</th>\n",
              "      <th>Cleanliness</th>\n",
              "      <th>Online boarding</th>\n",
              "      <th>Departure Delay in Minutes</th>\n",
              "      <th>Arrival Delay in Minutes</th>\n",
              "    </tr>\n",
              "  </thead>\n",
              "  <tbody>\n",
              "    <tr>\n",
              "      <th>0</th>\n",
              "      <td>satisfied</td>\n",
              "      <td>Female</td>\n",
              "      <td>Loyal Customer</td>\n",
              "      <td>65</td>\n",
              "      <td>Personal Travel</td>\n",
              "      <td>Eco</td>\n",
              "      <td>265</td>\n",
              "      <td>0</td>\n",
              "      <td>0</td>\n",
              "      <td>0</td>\n",
              "      <td>...</td>\n",
              "      <td>2</td>\n",
              "      <td>3</td>\n",
              "      <td>3</td>\n",
              "      <td>0</td>\n",
              "      <td>3</td>\n",
              "      <td>5</td>\n",
              "      <td>3</td>\n",
              "      <td>2</td>\n",
              "      <td>0</td>\n",
              "      <td>0.0</td>\n",
              "    </tr>\n",
              "    <tr>\n",
              "      <th>1</th>\n",
              "      <td>satisfied</td>\n",
              "      <td>Male</td>\n",
              "      <td>Loyal Customer</td>\n",
              "      <td>47</td>\n",
              "      <td>Personal Travel</td>\n",
              "      <td>Business</td>\n",
              "      <td>2464</td>\n",
              "      <td>0</td>\n",
              "      <td>0</td>\n",
              "      <td>0</td>\n",
              "      <td>...</td>\n",
              "      <td>2</td>\n",
              "      <td>3</td>\n",
              "      <td>4</td>\n",
              "      <td>4</td>\n",
              "      <td>4</td>\n",
              "      <td>2</td>\n",
              "      <td>3</td>\n",
              "      <td>2</td>\n",
              "      <td>310</td>\n",
              "      <td>305.0</td>\n",
              "    </tr>\n",
              "    <tr>\n",
              "      <th>2</th>\n",
              "      <td>satisfied</td>\n",
              "      <td>Female</td>\n",
              "      <td>Loyal Customer</td>\n",
              "      <td>15</td>\n",
              "      <td>Personal Travel</td>\n",
              "      <td>Eco</td>\n",
              "      <td>2138</td>\n",
              "      <td>0</td>\n",
              "      <td>0</td>\n",
              "      <td>0</td>\n",
              "      <td>...</td>\n",
              "      <td>2</td>\n",
              "      <td>2</td>\n",
              "      <td>3</td>\n",
              "      <td>3</td>\n",
              "      <td>4</td>\n",
              "      <td>4</td>\n",
              "      <td>4</td>\n",
              "      <td>2</td>\n",
              "      <td>0</td>\n",
              "      <td>0.0</td>\n",
              "    </tr>\n",
              "    <tr>\n",
              "      <th>3</th>\n",
              "      <td>satisfied</td>\n",
              "      <td>Female</td>\n",
              "      <td>Loyal Customer</td>\n",
              "      <td>60</td>\n",
              "      <td>Personal Travel</td>\n",
              "      <td>Eco</td>\n",
              "      <td>623</td>\n",
              "      <td>0</td>\n",
              "      <td>0</td>\n",
              "      <td>0</td>\n",
              "      <td>...</td>\n",
              "      <td>3</td>\n",
              "      <td>1</td>\n",
              "      <td>1</td>\n",
              "      <td>0</td>\n",
              "      <td>1</td>\n",
              "      <td>4</td>\n",
              "      <td>1</td>\n",
              "      <td>3</td>\n",
              "      <td>0</td>\n",
              "      <td>0.0</td>\n",
              "    </tr>\n",
              "    <tr>\n",
              "      <th>4</th>\n",
              "      <td>satisfied</td>\n",
              "      <td>Female</td>\n",
              "      <td>Loyal Customer</td>\n",
              "      <td>70</td>\n",
              "      <td>Personal Travel</td>\n",
              "      <td>Eco</td>\n",
              "      <td>354</td>\n",
              "      <td>0</td>\n",
              "      <td>0</td>\n",
              "      <td>0</td>\n",
              "      <td>...</td>\n",
              "      <td>4</td>\n",
              "      <td>2</td>\n",
              "      <td>2</td>\n",
              "      <td>0</td>\n",
              "      <td>2</td>\n",
              "      <td>4</td>\n",
              "      <td>2</td>\n",
              "      <td>5</td>\n",
              "      <td>0</td>\n",
              "      <td>0.0</td>\n",
              "    </tr>\n",
              "  </tbody>\n",
              "</table>\n",
              "<p>5 rows × 23 columns</p>\n",
              "</div>"
            ],
            "text/plain": [
              "  satisfaction  Gender   Customer Type  Age   Type of Travel     Class  \\\n",
              "0    satisfied  Female  Loyal Customer   65  Personal Travel       Eco   \n",
              "1    satisfied    Male  Loyal Customer   47  Personal Travel  Business   \n",
              "2    satisfied  Female  Loyal Customer   15  Personal Travel       Eco   \n",
              "3    satisfied  Female  Loyal Customer   60  Personal Travel       Eco   \n",
              "4    satisfied  Female  Loyal Customer   70  Personal Travel       Eco   \n",
              "\n",
              "   Flight Distance  Seat comfort  Departure/Arrival time convenient  \\\n",
              "0              265             0                                  0   \n",
              "1             2464             0                                  0   \n",
              "2             2138             0                                  0   \n",
              "3              623             0                                  0   \n",
              "4              354             0                                  0   \n",
              "\n",
              "   Food and drink  ...  Online support  Ease of Online booking  \\\n",
              "0               0  ...               2                       3   \n",
              "1               0  ...               2                       3   \n",
              "2               0  ...               2                       2   \n",
              "3               0  ...               3                       1   \n",
              "4               0  ...               4                       2   \n",
              "\n",
              "   On-board service  Leg room service  Baggage handling  Checkin service  \\\n",
              "0                 3                 0                 3                5   \n",
              "1                 4                 4                 4                2   \n",
              "2                 3                 3                 4                4   \n",
              "3                 1                 0                 1                4   \n",
              "4                 2                 0                 2                4   \n",
              "\n",
              "   Cleanliness  Online boarding  Departure Delay in Minutes  \\\n",
              "0            3                2                           0   \n",
              "1            3                2                         310   \n",
              "2            4                2                           0   \n",
              "3            1                3                           0   \n",
              "4            2                5                           0   \n",
              "\n",
              "   Arrival Delay in Minutes  \n",
              "0                       0.0  \n",
              "1                     305.0  \n",
              "2                       0.0  \n",
              "3                       0.0  \n",
              "4                       0.0  \n",
              "\n",
              "[5 rows x 23 columns]"
            ]
          },
          "execution_count": 3,
          "metadata": {},
          "output_type": "execute_result"
        }
      ],
      "source": [
        "#view the data\n",
        "df.head()"
      ]
    },
    {
      "cell_type": "code",
      "execution_count": null,
      "id": "72526b71-f259-4b2a-87f7-5729abf5be87",
      "metadata": {
        "id": "72526b71-f259-4b2a-87f7-5729abf5be87",
        "outputId": "f845e8bd-3e2b-426f-facb-e81faae7004f"
      },
      "outputs": [
        {
          "data": {
            "text/plain": [
              "(129880, 23)"
            ]
          },
          "execution_count": 4,
          "metadata": {},
          "output_type": "execute_result"
        }
      ],
      "source": [
        "df.shape"
      ]
    },
    {
      "cell_type": "code",
      "execution_count": null,
      "id": "5314f2b5-d3e0-47ee-b2f7-9a60b6214da2",
      "metadata": {
        "id": "5314f2b5-d3e0-47ee-b2f7-9a60b6214da2",
        "outputId": "0c1816ee-9479-485e-9dc9-daa8b5fae294"
      },
      "outputs": [
        {
          "data": {
            "text/plain": [
              "2987240"
            ]
          },
          "execution_count": 5,
          "metadata": {},
          "output_type": "execute_result"
        }
      ],
      "source": [
        "df.size"
      ]
    },
    {
      "cell_type": "code",
      "execution_count": null,
      "id": "e1970101-1ff3-400c-9374-72b535cccf7b",
      "metadata": {
        "id": "e1970101-1ff3-400c-9374-72b535cccf7b",
        "outputId": "9606ed98-69e0-4f45-c85d-630b4d22a1ee"
      },
      "outputs": [
        {
          "data": {
            "text/html": [
              "<div>\n",
              "<style scoped>\n",
              "    .dataframe tbody tr th:only-of-type {\n",
              "        vertical-align: middle;\n",
              "    }\n",
              "\n",
              "    .dataframe tbody tr th {\n",
              "        vertical-align: top;\n",
              "    }\n",
              "\n",
              "    .dataframe thead th {\n",
              "        text-align: right;\n",
              "    }\n",
              "</style>\n",
              "<table border=\"1\" class=\"dataframe\">\n",
              "  <thead>\n",
              "    <tr style=\"text-align: right;\">\n",
              "      <th></th>\n",
              "      <th>satisfaction</th>\n",
              "      <th>Gender</th>\n",
              "      <th>Customer Type</th>\n",
              "      <th>Age</th>\n",
              "      <th>Type of Travel</th>\n",
              "      <th>Class</th>\n",
              "      <th>Flight Distance</th>\n",
              "      <th>Seat comfort</th>\n",
              "      <th>Departure/Arrival time convenient</th>\n",
              "      <th>Food and drink</th>\n",
              "      <th>...</th>\n",
              "      <th>Online support</th>\n",
              "      <th>Ease of Online booking</th>\n",
              "      <th>On-board service</th>\n",
              "      <th>Leg room service</th>\n",
              "      <th>Baggage handling</th>\n",
              "      <th>Checkin service</th>\n",
              "      <th>Cleanliness</th>\n",
              "      <th>Online boarding</th>\n",
              "      <th>Departure Delay in Minutes</th>\n",
              "      <th>Arrival Delay in Minutes</th>\n",
              "    </tr>\n",
              "  </thead>\n",
              "  <tbody>\n",
              "    <tr>\n",
              "      <th>0</th>\n",
              "      <td>False</td>\n",
              "      <td>False</td>\n",
              "      <td>False</td>\n",
              "      <td>False</td>\n",
              "      <td>False</td>\n",
              "      <td>False</td>\n",
              "      <td>False</td>\n",
              "      <td>False</td>\n",
              "      <td>False</td>\n",
              "      <td>False</td>\n",
              "      <td>...</td>\n",
              "      <td>False</td>\n",
              "      <td>False</td>\n",
              "      <td>False</td>\n",
              "      <td>False</td>\n",
              "      <td>False</td>\n",
              "      <td>False</td>\n",
              "      <td>False</td>\n",
              "      <td>False</td>\n",
              "      <td>False</td>\n",
              "      <td>False</td>\n",
              "    </tr>\n",
              "    <tr>\n",
              "      <th>1</th>\n",
              "      <td>False</td>\n",
              "      <td>False</td>\n",
              "      <td>False</td>\n",
              "      <td>False</td>\n",
              "      <td>False</td>\n",
              "      <td>False</td>\n",
              "      <td>False</td>\n",
              "      <td>False</td>\n",
              "      <td>False</td>\n",
              "      <td>False</td>\n",
              "      <td>...</td>\n",
              "      <td>False</td>\n",
              "      <td>False</td>\n",
              "      <td>False</td>\n",
              "      <td>False</td>\n",
              "      <td>False</td>\n",
              "      <td>False</td>\n",
              "      <td>False</td>\n",
              "      <td>False</td>\n",
              "      <td>False</td>\n",
              "      <td>False</td>\n",
              "    </tr>\n",
              "    <tr>\n",
              "      <th>2</th>\n",
              "      <td>False</td>\n",
              "      <td>False</td>\n",
              "      <td>False</td>\n",
              "      <td>False</td>\n",
              "      <td>False</td>\n",
              "      <td>False</td>\n",
              "      <td>False</td>\n",
              "      <td>False</td>\n",
              "      <td>False</td>\n",
              "      <td>False</td>\n",
              "      <td>...</td>\n",
              "      <td>False</td>\n",
              "      <td>False</td>\n",
              "      <td>False</td>\n",
              "      <td>False</td>\n",
              "      <td>False</td>\n",
              "      <td>False</td>\n",
              "      <td>False</td>\n",
              "      <td>False</td>\n",
              "      <td>False</td>\n",
              "      <td>False</td>\n",
              "    </tr>\n",
              "    <tr>\n",
              "      <th>3</th>\n",
              "      <td>False</td>\n",
              "      <td>False</td>\n",
              "      <td>False</td>\n",
              "      <td>False</td>\n",
              "      <td>False</td>\n",
              "      <td>False</td>\n",
              "      <td>False</td>\n",
              "      <td>False</td>\n",
              "      <td>False</td>\n",
              "      <td>False</td>\n",
              "      <td>...</td>\n",
              "      <td>False</td>\n",
              "      <td>False</td>\n",
              "      <td>False</td>\n",
              "      <td>False</td>\n",
              "      <td>False</td>\n",
              "      <td>False</td>\n",
              "      <td>False</td>\n",
              "      <td>False</td>\n",
              "      <td>False</td>\n",
              "      <td>False</td>\n",
              "    </tr>\n",
              "    <tr>\n",
              "      <th>4</th>\n",
              "      <td>False</td>\n",
              "      <td>False</td>\n",
              "      <td>False</td>\n",
              "      <td>False</td>\n",
              "      <td>False</td>\n",
              "      <td>False</td>\n",
              "      <td>False</td>\n",
              "      <td>False</td>\n",
              "      <td>False</td>\n",
              "      <td>False</td>\n",
              "      <td>...</td>\n",
              "      <td>False</td>\n",
              "      <td>False</td>\n",
              "      <td>False</td>\n",
              "      <td>False</td>\n",
              "      <td>False</td>\n",
              "      <td>False</td>\n",
              "      <td>False</td>\n",
              "      <td>False</td>\n",
              "      <td>False</td>\n",
              "      <td>False</td>\n",
              "    </tr>\n",
              "  </tbody>\n",
              "</table>\n",
              "<p>5 rows × 23 columns</p>\n",
              "</div>"
            ],
            "text/plain": [
              "   satisfaction  Gender  Customer Type    Age  Type of Travel  Class  \\\n",
              "0         False   False          False  False           False  False   \n",
              "1         False   False          False  False           False  False   \n",
              "2         False   False          False  False           False  False   \n",
              "3         False   False          False  False           False  False   \n",
              "4         False   False          False  False           False  False   \n",
              "\n",
              "   Flight Distance  Seat comfort  Departure/Arrival time convenient  \\\n",
              "0            False         False                              False   \n",
              "1            False         False                              False   \n",
              "2            False         False                              False   \n",
              "3            False         False                              False   \n",
              "4            False         False                              False   \n",
              "\n",
              "   Food and drink  ...  Online support  Ease of Online booking  \\\n",
              "0           False  ...           False                   False   \n",
              "1           False  ...           False                   False   \n",
              "2           False  ...           False                   False   \n",
              "3           False  ...           False                   False   \n",
              "4           False  ...           False                   False   \n",
              "\n",
              "   On-board service  Leg room service  Baggage handling  Checkin service  \\\n",
              "0             False             False             False            False   \n",
              "1             False             False             False            False   \n",
              "2             False             False             False            False   \n",
              "3             False             False             False            False   \n",
              "4             False             False             False            False   \n",
              "\n",
              "   Cleanliness  Online boarding  Departure Delay in Minutes  \\\n",
              "0        False            False                       False   \n",
              "1        False            False                       False   \n",
              "2        False            False                       False   \n",
              "3        False            False                       False   \n",
              "4        False            False                       False   \n",
              "\n",
              "   Arrival Delay in Minutes  \n",
              "0                     False  \n",
              "1                     False  \n",
              "2                     False  \n",
              "3                     False  \n",
              "4                     False  \n",
              "\n",
              "[5 rows x 23 columns]"
            ]
          },
          "execution_count": 6,
          "metadata": {},
          "output_type": "execute_result"
        }
      ],
      "source": [
        "null=pd.isnull(df)\n",
        "null.head()"
      ]
    },
    {
      "cell_type": "code",
      "execution_count": null,
      "id": "335b3890-49db-4a1a-b359-af0a0afa4fbb",
      "metadata": {
        "id": "335b3890-49db-4a1a-b359-af0a0afa4fbb"
      },
      "outputs": [],
      "source": [
        "# Define age bins\n",
        "bins = [18, 25, 35, 45, float('inf')]\n",
        "labels = ['18-25', '26-35', '36-45', '46+']"
      ]
    },
    {
      "cell_type": "code",
      "execution_count": null,
      "id": "16ed8bf0-befa-4169-8190-b6c7820bd155",
      "metadata": {
        "id": "16ed8bf0-befa-4169-8190-b6c7820bd155"
      },
      "outputs": [],
      "source": [
        "# Bin the age column and create a new 'AgeGroup' column in the DataFrame\n",
        "df['AgeGroup'] = pd.cut(df['Age'], bins=bins, labels=labels)"
      ]
    },
    {
      "cell_type": "code",
      "execution_count": null,
      "id": "553347c4-55fa-4772-84e9-4ead4a3323fd",
      "metadata": {
        "id": "553347c4-55fa-4772-84e9-4ead4a3323fd",
        "outputId": "ed265b5e-4fa6-4d2e-acd9-49db904640a6"
      },
      "outputs": [
        {
          "data": {
            "image/png": "[encoded data removed]",
            "text/plain": [
              "<Figure size 640x480 with 1 Axes>"
            ]
          },
          "metadata": {},
          "output_type": "display_data"
        }
      ],
      "source": [
        "#Plot age group distribution\n",
        "age_distribution = df['AgeGroup'].value_counts().sort_index()\n",
        "age_distribution.plot(kind='bar')\n",
        "plt.title('Customer Distribution by Age Group')\n",
        "plt.xlabel('Age Group')\n",
        "plt.ylabel('Number of Customers')\n",
        "plt.show()"
      ]
    },
    {
      "cell_type": "code",
      "execution_count": null,
      "id": "91573320-ff09-4361-a810-8c8cb80f89d8",
      "metadata": {
        "id": "91573320-ff09-4361-a810-8c8cb80f89d8"
      },
      "outputs": [],
      "source": [
        "# Convert 'Gender' to numerical values\n",
        "df['GenderNum'] = df['Gender'].map({'Male': 0, 'Female': 1})"
      ]
    },
    {
      "cell_type": "code",
      "execution_count": null,
      "id": "9694f79f-c335-410e-9b49-2754aab84a1b",
      "metadata": {
        "id": "9694f79f-c335-410e-9b49-2754aab84a1b",
        "outputId": "417799c0-b644-4f4e-83cb-99680420a4d9"
      },
      "outputs": [
        {
          "name": "stdout",
          "output_type": "stream",
          "text": [
            "Index(['satisfaction', 'Gender', 'Customer Type', 'Age', 'Type of Travel',\n",
            "       'Class', 'Flight Distance', 'Seat comfort',\n",
            "       'Departure/Arrival time convenient', 'Food and drink', 'Gate location',\n",
            "       'Inflight wifi service', 'Inflight entertainment', 'Online support',\n",
            "       'Ease of Online booking', 'On-board service', 'Leg room service',\n",
            "       'Baggage handling', 'Checkin service', 'Cleanliness', 'Online boarding',\n",
            "       'Departure Delay in Minutes', 'Arrival Delay in Minutes', 'AgeGroup',\n",
            "       'GenderNum'],\n",
            "      dtype='object')\n",
            "Neither 'RepeatPurchase' nor 'Repeat Purchase' column found. Check your data.\n",
            "   Gender  GenderNum\n",
            "0  Female          1\n",
            "1    Male          0\n",
            "2  Female          1\n",
            "3  Female          1\n",
            "4  Female          1\n"
          ]
        }
      ],
      "source": [
        "#Convert 'RepeatPurchase' to numerical values\n",
        "#Verify the column name is correct and exists in the DataFrame\n",
        "print(df.columns) # Print all column names to check if 'RepeatPurchase' is present\n",
        "\n",
        "# Check if 'Repeat Purchase' exists, if not, try a different name or fix data import\n",
        "if 'RepeatPurchase' in df.columns:\n",
        "    df['RepeatPurchaseNum'] = df['RepeatPurchase'].map({'No': 0, 'Yes': 1})\n",
        "elif 'Repeat Purchase' in df.columns:  # Example of a potential alternative name\n",
        "    print(\"Found column 'Repeat Purchase' instead of 'RepeatPurchase'\")\n",
        "    df['RepeatPurchaseNum'] = df['Repeat Purchase'].map({'No': 0, 'Yes': 1})\n",
        "else:\n",
        "    print(\"Neither 'RepeatPurchase' nor 'Repeat Purchase' column found. Check your data.\")\n",
        "\n",
        "# Also verify that 'df' is the correct variable name for the dataframe\n",
        "print(df[['Gender', 'GenderNum']].head()) # Adjust columns if needed"
      ]
    },
    {
      "cell_type": "code",
      "execution_count": null,
      "id": "eb61a3b7-8916-4b68-ac21-541a553f9436",
      "metadata": {
        "id": "eb61a3b7-8916-4b68-ac21-541a553f9436"
      },
      "outputs": [],
      "source": [
        "import seaborn as sns"
      ]
    },
    {
      "cell_type": "code",
      "execution_count": null,
      "id": "07c980ff-931c-4609-aba2-0cfe09379082",
      "metadata": {
        "id": "07c980ff-931c-4609-aba2-0cfe09379082",
        "outputId": "17dcd6f9-788d-4121-913b-50f3fa062626"
      },
      "outputs": [
        {
          "name": "stdout",
          "output_type": "stream",
          "text": [
            "Covariance Matrix:\n",
            "                     Age  satisfaction\n",
            "Age           228.595045      1.775650\n",
            "satisfaction    1.775650      0.991048\n"
          ]
        }
      ],
      "source": [
        "# Convert 'satisfaction' to numerical values\n",
        "satisfaction_mapping = {'satisfied': 1, 'neutral': 0, 'dissatisfied': -1}\n",
        "df['satisfaction'] = df['satisfaction'].map(satisfaction_mapping)\n",
        "\n",
        "# Ensure 'Age' is numeric\n",
        "df['Age'] = pd.to_numeric(df['Age'], errors='coerce')\n",
        "\n",
        "# Calculate the covariance matrix\n",
        "covariance_matrix = df[['Age', 'satisfaction']].cov()\n",
        "\n",
        "print(\"Covariance Matrix:\")\n",
        "print(covariance_matrix)"
      ]
    },
    {
      "cell_type": "code",
      "execution_count": null,
      "id": "e6002888-e9b9-4b09-bcbc-b5e21aa6be94",
      "metadata": {
        "id": "e6002888-e9b9-4b09-bcbc-b5e21aa6be94",
        "outputId": "8db5188c-af1a-4f76-cabb-f3173e20a7dc"
      },
      "outputs": [
        {
          "data": {
            "image/png": "[encoded data removed]",
            "text/plain": [
              "<Figure size 640x480 with 2 Axes>"
            ]
          },
          "metadata": {},
          "output_type": "display_data"
        }
      ],
      "source": [
        "# Create a heatmap\n",
        "sns.heatmap(covariance_matrix, annot=True, cmap='coolwarm', fmt='.2f')\n",
        "\n",
        "# Display the plot\n",
        "plt.title('Covariance Matrix Heatmap')\n",
        "plt.show()"
      ]
    },
    {
      "cell_type": "code",
      "execution_count": null,
      "id": "58150e1c-c164-4884-95f2-92e0983b39ac",
      "metadata": {
        "id": "58150e1c-c164-4884-95f2-92e0983b39ac"
      },
      "outputs": [],
      "source": [
        "from scipy.stats import chi2_contingency\n"
      ]
    },
    {
      "cell_type": "code",
      "execution_count": null,
      "id": "e57b17f5-a72e-4138-ba32-32fa111b2c04",
      "metadata": {
        "id": "e57b17f5-a72e-4138-ba32-32fa111b2c04"
      },
      "outputs": [],
      "source": [
        "#Create a contingency table\n",
        "contingency_table = pd.crosstab(df['Gender'], df['Class'])\n"
      ]
    },
    {
      "cell_type": "code",
      "execution_count": null,
      "id": "366ed155-1d9e-4061-bf35-0757da2b8196",
      "metadata": {
        "id": "366ed155-1d9e-4061-bf35-0757da2b8196"
      },
      "outputs": [],
      "source": [
        "# Perform Chi-Square Test\n",
        "chi2, p, _, _ = chi2_contingency(contingency_table)\n"
      ]
    },
    {
      "cell_type": "code",
      "execution_count": null,
      "id": "6bcd1e65-a75a-47e4-85bf-9a6d5e32aa40",
      "metadata": {
        "id": "6bcd1e65-a75a-47e4-85bf-9a6d5e32aa40",
        "outputId": "b4dace60-4ebe-45e3-c7a8-727e63f331d4"
      },
      "outputs": [
        {
          "name": "stdout",
          "output_type": "stream",
          "text": [
            "Chi-Square Statistic: 20.90829951817473\n",
            "p-value: 2.8828393845484897e-05\n"
          ]
        }
      ],
      "source": [
        "print(f'Chi-Square Statistic: {chi2}')\n",
        "print(f'p-value: {p}')\n"
      ]
    },
    {
      "cell_type": "code",
      "execution_count": null,
      "id": "078e63fc-282d-4f02-bd55-a2ef02a210ef",
      "metadata": {
        "id": "078e63fc-282d-4f02-bd55-a2ef02a210ef",
        "outputId": "d887d83e-5619-4d94-e2f2-f0d1d621aa6d"
      },
      "outputs": [
        {
          "data": {
            "image/png": "[encoded data removed]",
            "text/plain": [
              "<Figure size 640x480 with 1 Axes>"
            ]
          },
          "metadata": {},
          "output_type": "display_data"
        }
      ],
      "source": [
        "#Visualize the association using a stacked bar plot\n",
        "contingency_table.plot(kind='bar', stacked=True)\n",
        "plt.title('Association Between Gender and Repeat Purchased')\n",
        "plt.xlabel('Gender')\n",
        "plt.ylabel('Count')\n",
        "plt.show()"
      ]
    },
    {
      "cell_type": "code",
      "execution_count": null,
      "id": "672bd659-1a6c-45b9-98c3-350f4207eb6f",
      "metadata": {
        "id": "672bd659-1a6c-45b9-98c3-350f4207eb6f"
      },
      "outputs": [],
      "source": [
        "from scipy.stats import ttest_ind"
      ]
    },
    {
      "cell_type": "code",
      "execution_count": null,
      "id": "22883d40-dc73-4cd1-be69-9560c418bf99",
      "metadata": {
        "id": "22883d40-dc73-4cd1-be69-9560c418bf99"
      },
      "outputs": [],
      "source": [
        "# Separate data by gender\n",
        "male_ratings = df[df['Gender'] == 'Male']['satisfaction']\n",
        "female_ratings = df[df['Gender'] == 'Female']['satisfaction']\n"
      ]
    },
    {
      "cell_type": "code",
      "execution_count": null,
      "id": "5f121c8c-0b11-4fac-97ee-4cf2985f31eb",
      "metadata": {
        "id": "5f121c8c-0b11-4fac-97ee-4cf2985f31eb",
        "outputId": "d35689ac-db78-44e2-80a9-503758657679"
      },
      "outputs": [
        {
          "name": "stdout",
          "output_type": "stream",
          "text": [
            "t-Statistic: -78.26996760300251\n",
            "p-value: 0.0\n"
          ]
        }
      ],
      "source": [
        "#Perform independent t-test\n",
        "t_stat, p_value = ttest_ind(male_ratings, female_ratings)\n",
        "\n",
        "print(f't-Statistic: {t_stat}')\n",
        "print(f'p-value: {p_value}')"
      ]
    },
    {
      "cell_type": "code",
      "execution_count": null,
      "id": "cc8f2cda-305a-40a6-9ea3-9fbfa43bc173",
      "metadata": {
        "id": "cc8f2cda-305a-40a6-9ea3-9fbfa43bc173"
      },
      "outputs": [],
      "source": []
    }
  ],
  "metadata": {
    "kernelspec": {
      "display_name": "Python 3 (ipykernel)",
      "language": "python",
      "name": "python3"
    },
    "language_info": {
      "codemirror_mode": {
        "name": "ipython",
        "version": 3
      },
      "file_extension": ".py",
      "mimetype": "text/x-python",
      "name": "python",
      "nbconvert_exporter": "python",
      "pygments_lexer": "ipython3",
      "version": "3.12.4"
    },
    "colab": {
      "provenance": []
    }
  },
  "nbformat": 4,
  "nbformat_minor": 5
}